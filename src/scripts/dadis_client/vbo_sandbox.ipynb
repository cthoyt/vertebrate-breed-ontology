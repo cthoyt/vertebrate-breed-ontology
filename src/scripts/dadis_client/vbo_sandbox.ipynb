{
 "cells": [
  {
   "cell_type": "code",
   "execution_count": 1,
   "metadata": {},
   "outputs": [],
   "source": [
    "###\n",
    "\n",
    "import pandas as pd\n",
    "\n",
    "outfile = \"dogbreeds_merged.tsv\"\n",
    "template_url=\"https://docs.google.com/spreadsheets/d/e/2PACX-1vSuwLXikgq08frK7d8yFSdWTS8P1erx5bS_QiLdHhfKV4ulJlRrqkVaVhC7b3O6Z8ixrvJgoCBy8YLq/pub?gid=1655315858&single=true&output=tsv\"\n",
    "term_to_obsolete = \"VBO:0200238\"\n",
    "term_to_merge_into = \"VBO:0200239\"\n",
    "issue = 123"
   ]
  },
  {
   "cell_type": "code",
   "execution_count": 2,
   "metadata": {},
   "outputs": [],
   "source": [
    "def merge(df, term_to_obsolete, term_to_merge_into, issue=1):\n",
    "    df_term_to_merge_into = df[df[\"vbo_id\"]==term_to_merge_into].copy()\n",
    "    df_term_to_obsolete = df[df[\"vbo_id\"]==term_to_obsolete].copy()\n",
    "    df_term_to_obsolete2 = df_term_to_obsolete.copy()\n",
    "    \n",
    "    term_to_merge_into_label = df_term_to_merge_into[\"term_label\"].values[0]\n",
    "    term_to_obsolete_label = df_term_to_obsolete[\"term_label\"].values[0]\n",
    "    \n",
    "    list_of_columns_to_keep = [\"term_label\", \"vbo_id\", \"contributor\"]\n",
    "    for column in df_term_to_obsolete.columns:\n",
    "        if column not in list_of_columns_to_keep:\n",
    "            df_term_to_obsolete[column] = ''\n",
    "    \n",
    "    df_term_to_obsolete['term_label'] =  \"obsolete \" + df_term_to_obsolete['term_label']\n",
    "    df_term_to_obsolete['obsoletion_type'] =  \"owl:Class\"\n",
    "    df_term_to_obsolete['obsolete'] =  \"true\"\n",
    "    df_term_to_obsolete['contributors'] =  \"\"\n",
    "    df_term_to_obsolete['replacement_term'] =  term_to_merge_into\n",
    "    df_term_to_obsolete['replacement_label'] = term_to_merge_into_label\n",
    "    df_term_to_obsolete['obsolescence_reason'] = \"terms merged\"\n",
    "    df_term_to_obsolete['GH_issue'] = \"https://github.com/monarch-initiative/vertebrate-breed-ontology/issues/{issue}\".format(issue=issue)\n",
    "    \n",
    "    # Update duplicated\n",
    "    df_term_to_obsolete2['vbo_id'] =  term_to_merge_into\n",
    "    df_term_to_obsolete2['term_label'] =  ''\n",
    "    df_term_to_obsolete2['synonym_label_from_merged_term'] =  term_to_obsolete_label\n",
    "    df_term_to_obsolete2['source_for_merged_term'] =  term_to_obsolete\n",
    "    df_term_to_obsolete2['synonym_type_most_common_name'] =  ''\n",
    "    df_term_to_obsolete2['GH_issue'] = \"https://github.com/monarch-initiative/vertebrate-breed-ontology/issues/{issue}\".format(issue=issue)    \n",
    "\n",
    "    return pd.concat([df_term_to_obsolete, df_term_to_obsolete2, df_term_to_merge_into])\n",
    "\n",
    "\n",
    "def obsolete_and_write(template_url, term_to_obsolete, term_to_merge_into, issue, outfile):\n",
    "    df=pd.read_csv(template_url,sep=\"\\t\")\n",
    "    out = merge(df, term_to_obsolete, term_to_merge_into,issue=issue)\n",
    "    out.to_csv(outfile,sep=\"\\t\",index=False)\n"
   ]
  },
  {
   "cell_type": "code",
   "execution_count": 4,
   "metadata": {},
   "outputs": [],
   "source": [
    "obsolete_and_write(\n",
    "        template_url=template_url,\n",
    "        term_to_obsolete = \"VBO:0200238\",\n",
    "        term_to_merge_into = \"VBO:0200239\",\n",
    "        issue = 123,\n",
    "        outfile = outfile\n",
    ")\n"
   ]
  }
 ],
 "metadata": {
  "kernelspec": {
   "display_name": "Python 3",
   "language": "python",
   "name": "python3"
  },
  "language_info": {
   "codemirror_mode": {
    "name": "ipython",
    "version": 3
   },
   "file_extension": ".py",
   "mimetype": "text/x-python",
   "name": "python",
   "nbconvert_exporter": "python",
   "pygments_lexer": "ipython3",
   "version": "3.11.7"
  }
 },
 "nbformat": 4,
 "nbformat_minor": 2
}
